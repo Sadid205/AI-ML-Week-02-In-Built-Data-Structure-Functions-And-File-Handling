{
 "cells": [
  {
   "cell_type": "markdown",
   "id": "66884980-f140-4f81-83a5-1f22048a5b95",
   "metadata": {},
   "source": [
    "## Functions"
   ]
  },
  {
   "cell_type": "code",
   "execution_count": 3,
   "id": "cbc0d5e0-80ef-4c0e-a020-9a6d5d78e270",
   "metadata": {},
   "outputs": [
    {
     "name": "stdout",
     "output_type": "stream",
     "text": [
      "hello sadid\n"
     ]
    }
   ],
   "source": [
    "def greet(user=\"guest\"):\n",
    "    print(f\"hello {user}\")\n",
    "\n",
    "greet(\"sadid\")"
   ]
  },
  {
   "cell_type": "code",
   "execution_count": 9,
   "id": "51c00ab1-04c2-431b-9727-dff2d5a6e1de",
   "metadata": {},
   "outputs": [
    {
     "name": "stdout",
     "output_type": "stream",
     "text": [
      "30 10 20\n",
      "1030\n"
     ]
    }
   ],
   "source": [
    "def square_addition(a,b,c):\n",
    "    print(f\"{a} {b} {c}\")\n",
    "    a=a**2\n",
    "    b=b**2\n",
    "    return (a+b+c)\n",
    "Positional argument\n",
    "ans = square_addition(10,20,30) + 10\n",
    " Keyword argument\n",
    "ans = square_addition(b=10,c=20,a=30) + 10\n",
    "print(ans)"
   ]
  },
  {
   "cell_type": "code",
   "execution_count": 30,
   "id": "14402b97-92ca-460e-b9c7-45c7297ec4f6",
   "metadata": {},
   "outputs": [],
   "source": [
    "def square_addition(*args):\n",
    "    summation = 0\n",
    "    for i in args:\n",
    "        i = i**2\n",
    "        summation+=i\n",
    "    return summation"
   ]
  },
  {
   "cell_type": "code",
   "execution_count": 31,
   "id": "08545e54-2408-4e13-90c5-12efd94ff150",
   "metadata": {},
   "outputs": [
    {
     "name": "stdout",
     "output_type": "stream",
     "text": [
      "5500\n"
     ]
    }
   ],
   "source": [
    "ans = square_addition(10,20,30,40,50)\n",
    "print(ans)"
   ]
  },
  {
   "cell_type": "code",
   "execution_count": 34,
   "id": "b2675126-d354-4ef7-ad45-d3f40b2338c0",
   "metadata": {},
   "outputs": [
    {
     "name": "stdout",
     "output_type": "stream",
     "text": [
      "name : sadid\n",
      "cls : 10\n",
      "roll : 20\n",
      "marks : 34.4\n"
     ]
    }
   ],
   "source": [
    "def student(**kwargs):\n",
    "    for key,val in kwargs.items():\n",
    "        print(f\"{key} : {val}\")\n",
    "student(name=\"sadid\",cls=10,roll=20,marks=34.4)"
   ]
  },
  {
   "cell_type": "markdown",
   "id": "e47cdc4e-7ccb-4daa-bfa2-3e27b671ba83",
   "metadata": {},
   "source": [
    "## Return"
   ]
  },
  {
   "cell_type": "code",
   "execution_count": 43,
   "id": "d4e5ec34-e0b9-4a65-9f5b-127f917de3ee",
   "metadata": {},
   "outputs": [
    {
     "name": "stdout",
     "output_type": "stream",
     "text": [
      "(10, 30)\n",
      "10 20\n"
     ]
    }
   ],
   "source": [
    "def give_prediction(a,b):\n",
    "    return a,b\n",
    "type(give_prediction(10,20))\n",
    "\n",
    "print(give_prediction(10,30))\n",
    "\n",
    "## unpacking\n",
    "x,y = give_prediction(10,20)\n",
    "print(x,y)"
   ]
  },
  {
   "cell_type": "code",
   "execution_count": 44,
   "id": "1d209f60-93a3-4151-82d9-7bc035985336",
   "metadata": {},
   "outputs": [
    {
     "data": {
      "text/plain": [
       "tuple"
      ]
     },
     "execution_count": 44,
     "metadata": {},
     "output_type": "execute_result"
    }
   ],
   "source": [
    "def give_prediction():\n",
    "    a = [10,20,30]\n",
    "    b = [20,30,40]\n",
    "    return a,b\n",
    "type(give_prediction())"
   ]
  },
  {
   "cell_type": "code",
   "execution_count": 46,
   "id": "281b5b0a-296c-4a76-933d-17eb2e6595ae",
   "metadata": {},
   "outputs": [
    {
     "name": "stdout",
     "output_type": "stream",
     "text": [
      "[10, 20, 30] [20, 30, 40]\n"
     ]
    }
   ],
   "source": [
    "# unpacking\n",
    "x,y = give_prediction()\n",
    "print(x,y)"
   ]
  },
  {
   "cell_type": "code",
   "execution_count": 51,
   "id": "03f5fe49-ec93-4d75-bf48-122d07fde50b",
   "metadata": {},
   "outputs": [
    {
     "name": "stdout",
     "output_type": "stream",
     "text": [
      "<class 'tuple'>\n",
      "{10, 20, 30}\n",
      "[20, 30, 40]\n"
     ]
    }
   ],
   "source": [
    "def give_prediction():\n",
    "    a = {10,20,30}\n",
    "    b = [20,30,40]\n",
    "    return a,b\n",
    "type(give_prediction())\n",
    "x  = give_prediction()\n",
    "print(type(x))\n",
    "for i in x:\n",
    "    print(i)"
   ]
  },
  {
   "cell_type": "code",
   "execution_count": 53,
   "id": "250fb6e9-d0d6-44b9-9797-01ae4ace694e",
   "metadata": {},
   "outputs": [
    {
     "name": "stdout",
     "output_type": "stream",
     "text": [
      "<class 'dict'>\n",
      "('name', 'adil')\n",
      "('addr', 'CTG')\n",
      "('add', 'dhaka')\n"
     ]
    }
   ],
   "source": [
    "def give_prediction():\n",
    "    \n",
    "    return {\"name\":\"adil\",\"addr\":\"CTG\",\"add\":\"dhaka\"},{\"name\":\"adil\",\"addr\":\"CTG\",\"add\":\"dhaka\"}\n",
    "\n",
    "x,y = give_prediction()\n",
    "print(type(x))\n",
    "\n",
    "for item in x.items():\n",
    "    print(item)"
   ]
  },
  {
   "cell_type": "markdown",
   "id": "aa5e7888-6dc6-4860-b877-80f38a26a29f",
   "metadata": {},
   "source": [
    "# Iterator"
   ]
  },
  {
   "cell_type": "code",
   "execution_count": 66,
   "id": "d128ae17-ef41-46ab-b3a5-ab676b657839",
   "metadata": {},
   "outputs": [
    {
     "name": "stdout",
     "output_type": "stream",
     "text": [
      "1\n",
      "50\n",
      "3\n",
      "4\n",
      "5\n",
      "1\n",
      "50\n",
      "3\n",
      "4\n",
      "5\n"
     ]
    }
   ],
   "source": [
    "s = {1,3,4,5,50}\n",
    "s_iter = iter(s)\n",
    "print(next(s_iter))\n",
    "print(next(s_iter))\n",
    "print(next(s_iter))\n",
    "print(next(s_iter))\n",
    "print(next(s_iter))\n",
    "# print(next(s_iter))\n",
    "for i in s:\n",
    "    print(i)"
   ]
  },
  {
   "cell_type": "code",
   "execution_count": 73,
   "id": "73574f38-b1de-4d76-ae38-252abde0cca7",
   "metadata": {},
   "outputs": [
    {
     "name": "stdout",
     "output_type": "stream",
     "text": [
      "<class 'generator'>\n",
      "<generator object data_loader at 0x7ba025447c40>\n",
      "[0, 1, 2, 3, 4]\n",
      "[5, 6, 7, 8, 9]\n"
     ]
    }
   ],
   "source": [
    "# Generator\n",
    "lst = [x for x in range(500)] ## dataset\n",
    "\n",
    "def data_loader(chunk_size,lst):\n",
    "    for i in range(0,len(lst),chunk_size):\n",
    "        yield lst[i:i+chunk_size]\n",
    "\n",
    "x = data_loader(5,lst)\n",
    "print(type(x))\n",
    "print(x)\n",
    "print(next(x))\n",
    "print(next(x))\n"
   ]
  },
  {
   "cell_type": "markdown",
   "id": "a3ca55de-ca89-4ff4-a968-83fd47f4d65b",
   "metadata": {},
   "source": [
    "# Lambda"
   ]
  },
  {
   "cell_type": "code",
   "execution_count": 74,
   "id": "9defb32a-cf2f-444c-8c60-f246a6ef9cf0",
   "metadata": {},
   "outputs": [
    {
     "name": "stdout",
     "output_type": "stream",
     "text": [
      "13\n"
     ]
    }
   ],
   "source": [
    "def square_addition(x,y):\n",
    "    return x**2 + y**2\n",
    "sq_add = lambda x,y : x**2 + y**2\n",
    "print(sq_add(2,3))"
   ]
  },
  {
   "cell_type": "code",
   "execution_count": 75,
   "id": "b4cdf661-c31d-43f9-b469-ee166ce767b0",
   "metadata": {},
   "outputs": [
    {
     "name": "stdout",
     "output_type": "stream",
     "text": [
      "True\n"
     ]
    }
   ],
   "source": [
    "if_even = lambda x:x%2==0\n",
    "print(if_even(2))"
   ]
  },
  {
   "cell_type": "markdown",
   "id": "0e511bc9-1d65-499b-be73-d6535b805b47",
   "metadata": {},
   "source": [
    "# Map"
   ]
  },
  {
   "cell_type": "code",
   "execution_count": 90,
   "id": "0f025c7b-a26d-4e31-9444-fb15ee960beb",
   "metadata": {},
   "outputs": [
    {
     "name": "stdout",
     "output_type": "stream",
     "text": [
      "[1, 4, 9, 16, 25, 36, 49]\n",
      "H E L L O   W O R L D   ,   W E L C O M E   T O   T H E   A G E   O F   A I / M L\n"
     ]
    }
   ],
   "source": [
    "lst = [1,2,3,4,5,6,7]\n",
    "def square(x):\n",
    "    return x**2\n",
    "\n",
    "lst = list(map(square,lst))\n",
    "print(lst)\n",
    "\n",
    "\n",
    "\n",
    "## sttring\n",
    "\n",
    "\n",
    "txt = \"hello world , welcome to the age of AI/ML\"\n",
    "str1 = list(map(lambda ch: ch.upper(),txt))\n",
    "str1 = \" \".join(str1)\n",
    "print(str1)\n",
    "\n"
   ]
  },
  {
   "cell_type": "code",
   "execution_count": 98,
   "id": "09084d67-c49c-4e0e-bb9b-f0d0dc66d5f7",
   "metadata": {},
   "outputs": [
    {
     "name": "stdout",
     "output_type": "stream",
     "text": [
      "[1, 4, 3, 16, 5]\n"
     ]
    }
   ],
   "source": [
    "# map with lambda function\n",
    "lst = [1,2,3,4,5]\n",
    "lst = list(map(lambda x: x**2 if x%2==0 else x,lst))\n",
    "print(lst)"
   ]
  },
  {
   "cell_type": "code",
   "execution_count": 108,
   "id": "37c51ab1-8584-4d49-b804-42c49dea2cbe",
   "metadata": {},
   "outputs": [
    {
     "name": "stdout",
     "output_type": "stream",
     "text": [
      "[51, 52, 53, 54, 55, 56, 57, 58, 59, 60, 61, 62, 63, 64, 65, 66, 67, 68, 69, 70, 71, 72, 73, 74, 75, 76, 77, 78, 79, 80, 81, 82, 83, 84, 85, 86, 87, 88, 89, 90, 91, 92, 93, 94, 95, 96, 97, 98, 99]\n"
     ]
    }
   ],
   "source": [
    "# filter\n",
    "\n",
    "numbers = [x for x in range(100)]\n",
    "# print(numbers)\n",
    "\n",
    "even = list(filter(lambda x:x%2==0,numbers))\n",
    "# print(even)\n",
    "\n",
    "fifty_upper =  list(filter(lambda x:x > 50,numbers))\n",
    "print(fifty_upper)"
   ]
  },
  {
   "cell_type": "code",
   "execution_count": 111,
   "id": "7bc21125-0c1f-422f-8eaf-3d3a07e17db5",
   "metadata": {},
   "outputs": [
    {
     "name": "stdout",
     "output_type": "stream",
     "text": [
      "[1, 'Hello', [1, 2], True]\n"
     ]
    }
   ],
   "source": [
    "data = [0,1,'','Hello',[],[1,2],None,True,False,None]\n",
    "\n",
    "cleaned_data= list(filter(None,data))\n",
    "print(cleaned_data)"
   ]
  },
  {
   "cell_type": "code",
   "execution_count": 114,
   "id": "a1293dad-9472-416a-b23c-85d9232012d4",
   "metadata": {},
   "outputs": [
    {
     "name": "stdout",
     "output_type": "stream",
     "text": [
      "['E', 'O', 'O', 'E', 'O', 'E', 'O', 'E', 'A', 'E', 'O', 'A', 'I']\n"
     ]
    }
   ],
   "source": [
    "# string\n",
    "vowel = list(filter(lambda x:x in \"AEIOU\",str1))\n",
    "print(vowel)"
   ]
  },
  {
   "cell_type": "code",
   "execution_count": 117,
   "id": "4da9e7ef-de4c-4a35-ab64-6acc2e483846",
   "metadata": {},
   "outputs": [
    {
     "name": "stdout",
     "output_type": "stream",
     "text": [
      "['aaa', 'cccc', 'dddd']\n"
     ]
    }
   ],
   "source": [
    "# fruits\n",
    "fruits  = ['aaa','bb','cccc','dddd']\n",
    "filtering = list(filter(lambda x: len(x) > 2,fruits))\n",
    "print(filtering)\n",
    "           "
   ]
  },
  {
   "cell_type": "code",
   "execution_count": 119,
   "id": "0df7f196-bb6d-4599-b8b3-6cab1f8f4890",
   "metadata": {},
   "outputs": [
    {
     "name": "stdout",
     "output_type": "stream",
     "text": [
      "48\n"
     ]
    }
   ],
   "source": [
    "# Reduce\n",
    "\n",
    "from functools import reduce\n",
    "lst = [1,23,3,4,5,6,6,]\n",
    "summation = reduce(lambda x,y:x+y,lst)\n",
    "print(summation)\n",
    "\n"
   ]
  },
  {
   "cell_type": "code",
   "execution_count": 121,
   "id": "d50ea5e8-b515-433f-88f4-8d1b56f9ae24",
   "metadata": {},
   "outputs": [
    {
     "name": "stdout",
     "output_type": "stream",
     "text": [
      "23\n"
     ]
    }
   ],
   "source": [
    "max_value = reduce(lambda x,y:x if x > y else y ,lst)\n",
    "print(max_value)"
   ]
  },
  {
   "cell_type": "code",
   "execution_count": 123,
   "id": "679a9d51-56a7-4c78-a960-24604ae64477",
   "metadata": {},
   "outputs": [
    {
     "name": "stdout",
     "output_type": "stream",
     "text": [
      "hello world welcome to programing\n"
     ]
    }
   ],
   "source": [
    "lst = [\"hello\",\"world\",\"welcome\",\"to\",\"programing\"]\n",
    "string = reduce(lambda x,y:x+\" \"+y,lst)\n",
    "print(string)"
   ]
  },
  {
   "cell_type": "code",
   "execution_count": 124,
   "id": "67ca0d96-41a0-4acc-a409-f7ab45800d6d",
   "metadata": {},
   "outputs": [
    {
     "data": {
      "text/plain": [
       "[2, 4]"
      ]
     },
     "execution_count": 124,
     "metadata": {},
     "output_type": "execute_result"
    }
   ],
   "source": [
    "list(filter(lambda x: x%2==0, [1,2,3,4]))"
   ]
  },
  {
   "cell_type": "code",
   "execution_count": 128,
   "id": "1b3dca23-5025-40bb-9355-abd9b0ac6fe5",
   "metadata": {},
   "outputs": [
    {
     "name": "stdin",
     "output_type": "stream",
     "text": [
      " 5\n",
      " 10 13 95 1 3\n"
     ]
    },
    {
     "name": "stdout",
     "output_type": "stream",
     "text": [
      "1 95\n"
     ]
    }
   ],
   "source": [
    "#  Max and Min\n",
    "from functools import reduce\n",
    "n = input()\n",
    "lst = input().split()\n",
    "min = reduce(lambda x,y:x if int(x)<int(y) else y,lst)\n",
    "max = reduce(lambda x,y:x if int(x)>int(y) else y,lst)\n",
    "print(min,max)"
   ]
  },
  {
   "cell_type": "code",
   "execution_count": null,
   "id": "9f8d8b52-96cf-4726-bdbb-1585a920e1b8",
   "metadata": {},
   "outputs": [],
   "source": [
    "# Average\n",
    "from functools import reduce\n",
    "n = int(input())\n",
    "lst = input().split()\n",
    "total = reduce(lambda x,y:float(x)+float(y),lst)\n",
    "print(f\"{total/n:.7f}\")"
   ]
  },
  {
   "cell_type": "code",
   "execution_count": null,
   "id": "ca9f74ce-7cc5-4d03-9f12-c5163a533c01",
   "metadata": {},
   "outputs": [],
   "source": [
    "## New Array\n",
    "n = int(input())\n",
    "A = input().split()\n",
    "B = input().split()\n",
    "\n",
    "def concat(a,b,n):\n",
    "    C = \"\"\n",
    "    for i in range(n):\n",
    "        C += b[i] + \" \"\n",
    "    for j in range(n):\n",
    "        C += a[j] + \" \" \n",
    "    return C\n",
    "C = concat(A,B,n)\n",
    "print(C)"
   ]
  }
 ],
 "metadata": {
  "kernelspec": {
   "display_name": "Python [conda env:base] *",
   "language": "python",
   "name": "conda-base-py"
  },
  "language_info": {
   "codemirror_mode": {
    "name": "ipython",
    "version": 3
   },
   "file_extension": ".py",
   "mimetype": "text/x-python",
   "name": "python",
   "nbconvert_exporter": "python",
   "pygments_lexer": "ipython3",
   "version": "3.13.5"
  }
 },
 "nbformat": 4,
 "nbformat_minor": 5
}

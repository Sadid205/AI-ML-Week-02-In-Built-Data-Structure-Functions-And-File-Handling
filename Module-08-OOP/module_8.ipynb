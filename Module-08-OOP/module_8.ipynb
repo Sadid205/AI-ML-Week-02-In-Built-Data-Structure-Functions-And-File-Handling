{
  "nbformat": 4,
  "nbformat_minor": 0,
  "metadata": {
    "colab": {
      "provenance": []
    },
    "kernelspec": {
      "name": "python3",
      "display_name": "Python 3"
    },
    "language_info": {
      "name": "python"
    }
  },
  "cells": [
    {
      "cell_type": "code",
      "execution_count": 29,
      "metadata": {
        "id": "dNGSPcNazMqV"
      },
      "outputs": [],
      "source": [
        "class Phone:\n",
        "  catagory = \"Electronics\"\n",
        "\n",
        "  # conostructor\n",
        "  def __init__(self,model,battery,camera,battery_percentage=100):\n",
        "    self.model = model,\n",
        "    self.battery = battery,\n",
        "    self.camera = camera\n",
        "    self.battery_percentage = battery_percentage\n",
        "\n",
        "  # methods\n",
        "  def charge(self,hour):\n",
        "    print('this is parent class')\n",
        "    self.battery_percentage +=hour\n",
        "\n",
        "  def capture(self,photo):\n",
        "    if(self.battery_percentage) <=0:\n",
        "      print(\"NO charge\")\n",
        "    else:\n",
        "      self.battery_percentage -=photo\n",
        "      print(f\"photo captured in {self.model}\")\n",
        "\n"
      ]
    },
    {
      "cell_type": "code",
      "source": [
        "# Creating object\n",
        "apple = Phone(\"IPhone-17\",3000,40)\n",
        "apple.catagory = \"Super Electronics\"\n",
        "blueberry = Phone(\"B-17\",4000,30)\n",
        "\n",
        "motorola =  Phone(\"M-17\",5000,35)\n",
        "motorola.capture(10)\n",
        "motorola.capture(30)\n",
        "\n",
        "print(apple.battery_percentage)\n",
        "\n",
        "\n",
        "print(type(apple))\n",
        "# print(apple.catagory)\n",
        "# print(blueberry.catagory)\n",
        "# print(motorola.catagory)\n",
        "print(apple.camera)\n",
        "\n",
        "\n",
        "# Child / derived class\n",
        "class SmartPhone(Phone):\n",
        "  def __init__(self,model,battery,camera,processor):\n",
        "    super().__init__(model,battery,camera)\n",
        "    self.processor = processor\n",
        "\n",
        "  def charge(self,hour):\n",
        "    print(\"fast charging in process\")\n",
        "    super().charge(hour)\n",
        "\n",
        "smphone = SmartPhone(\"x23s\",4000,450,\"g99\")\n",
        "smphone.charge(2)\n",
        "print(smphone.battery_percentage)"
      ],
      "metadata": {
        "colab": {
          "base_uri": "https://localhost:8080/"
        },
        "id": "4KfPnw-njn2S",
        "outputId": "665ef7f2-20b6-4425-ab20-80109f57b75d"
      },
      "execution_count": 30,
      "outputs": [
        {
          "output_type": "stream",
          "name": "stdout",
          "text": [
            "photo captured in ('M-17',)\n",
            "photo captured in ('M-17',)\n",
            "100\n",
            "<class '__main__.Phone'>\n",
            "40\n",
            "fast charging in process\n",
            "this is parent class\n",
            "102\n"
          ]
        }
      ]
    },
    {
      "cell_type": "code",
      "source": [
        "class Camera:\n",
        "  def __init__(self,name):\n",
        "    self.name = name\n",
        "  def capture(self):\n",
        "    print('a photo is captured')\n",
        "\n",
        "class Smart_Phone(Camera):\n",
        "  def __init__(self,name,resulation):\n",
        "    super().__init__(name)\n",
        "    self.resulation = resulation\n",
        "\n",
        "  # method overriding\n",
        "  def capture(self):\n",
        "    print(\"Photo is captured by a Phone\")\n",
        "\n",
        "class DSLR(Camera):\n",
        "  def __init__(self,name,resulation):\n",
        "    super().__init__(name)\n",
        "    self.resulation = resulation\n",
        "\n",
        "  # method overriding\n",
        "  def capture(self):\n",
        "    print(\"Photo is captured by a DSLR\")\n",
        "\n",
        "\n",
        "class Drone(Camera):\n",
        "  def __init__(self,name,resulation):\n",
        "    super().__init__(name)\n",
        "    self.resulation = resulation\n",
        "\n",
        "  # method overriding\n",
        "  def capture(self):\n",
        "    print(\"Photo is captured by a Drone\")\n",
        "\n",
        "\n",
        "phone = Smart_Phone(\"Phone\",30)\n",
        "dslr  = DSLR(\"DSLR\",200)\n",
        "drone = Drone(\"Drone\",150)\n",
        "\n",
        "phone.capture()\n",
        "dslr.capture()\n",
        "drone.capture()"
      ],
      "metadata": {
        "id": "bF8q0nlBj_U9",
        "colab": {
          "base_uri": "https://localhost:8080/"
        },
        "outputId": "ba6d3073-cdbb-4eeb-eeee-49a178255015"
      },
      "execution_count": 7,
      "outputs": [
        {
          "output_type": "stream",
          "name": "stdout",
          "text": [
            "Photo is captured by a Phone\n",
            "Photo is captured by a DSLR\n",
            "Photo is captured by a Drone\n"
          ]
        }
      ]
    },
    {
      "cell_type": "code",
      "source": [
        "# Encapsulation\n",
        "# design part\n",
        "class Mobile:\n",
        "  def __init__(self,name,model,imei):\n",
        "    self.__name = name\n",
        "    self.__model = model\n",
        "    self.__imei = imei # private\n",
        "\n",
        "  def charge(salf):\n",
        "    print(\"phone is charging\")\n",
        "\n",
        "\n",
        "  def imei_getter(self):\n",
        "    return self.__imei\n",
        "\n",
        "  def model_getter(self):\n",
        "    return self.__model\n",
        "\n",
        "  def name_getter(self):\n",
        "    return self.__name\n",
        "\n",
        "  def name_setter(self,name):\n",
        "    self.__name = name\n",
        "\n",
        "\n",
        "iphone = Mobile(\"Phone\",\"17\",\"1xx3\")\n",
        "iphone.charge()\n",
        "\n",
        "# print(iphone.name)\n",
        "# print(iphone.model)\n",
        "# print(iphone.__imei)\n",
        "\n",
        "iphone.name = \"PH\"\n",
        "iphone.imei = \"1234\"\n",
        "iphone.name_setter(\"Phitron\")\n",
        "print(iphone.name_getter())\n",
        "print(iphone.imei_getter())\n",
        "\n",
        "\n",
        "# outside world(user)\n",
        "\n"
      ],
      "metadata": {
        "colab": {
          "base_uri": "https://localhost:8080/"
        },
        "id": "2NkblnK1Rpmx",
        "outputId": "fbc707da-2804-4b9f-b8cb-ca2c3dae1494"
      },
      "execution_count": 17,
      "outputs": [
        {
          "output_type": "stream",
          "name": "stdout",
          "text": [
            "phone is charging\n",
            "Phitron\n",
            "1xx3\n"
          ]
        }
      ]
    },
    {
      "cell_type": "code",
      "source": [
        "# Abstruction\n",
        "from abc import ABC,abstractmethod\n",
        "class Telephone(ABC):\n",
        "  @abstractmethod\n",
        "  def make_call(self):\n",
        "    print(\"making a call\")\n",
        "\n",
        "  def capture_photo(self):\n",
        "    pass\n",
        "\n",
        "class SPhone(Telephone):\n",
        "  def make_call(self):\n",
        "    print(\"making a call using Sphone\")\n",
        "\n",
        "class Iphone(Telephone):\n",
        "  def make_call(self):\n",
        "    print(\"making a call using Iphone\")\n",
        "\n",
        "ip = Iphone()\n",
        "ip.make_call()"
      ],
      "metadata": {
        "colab": {
          "base_uri": "https://localhost:8080/"
        },
        "id": "zhhrthxbT_Dz",
        "outputId": "2dd6a492-ca15-4fe2-eb6f-f024a93bb54b"
      },
      "execution_count": 22,
      "outputs": [
        {
          "output_type": "stream",
          "name": "stdout",
          "text": [
            "making a call using Iphone\n"
          ]
        }
      ]
    },
    {
      "cell_type": "code",
      "source": [
        "#PracticeMake three classes:\n",
        "# Phone → has model and battery (default 100).\n",
        "\n",
        "\n",
        "# SmartPhone → inherits from Phone and adds operating system.\n",
        "\n",
        "\n",
        "# GamingPhone  → inherits from SmartPhone and adds cooling_system.\n",
        "#  Add a method start_game(name) that prints\n",
        "#  👉 \"Playing <name> on <model>\".\n",
        "\n",
        "class Phone:\n",
        "  def __init__(self,model,battery=100):\n",
        "    self.model = model\n",
        "    self.battery = battery\n",
        "\n",
        "class SmartPhone(Phone):\n",
        "    def __init__(self,model,battery,operating_system):\n",
        "      self.operating_system = operating_system\n",
        "      super().__init__(model,battery)\n",
        "\n",
        "class GamingPhone(Smart_Phone):\n",
        "    def __init__(self,model,battery,operating_system,cooling_system):\n",
        "      self.cooling_system = cooling_system\n",
        "      super().__init__(model,battery,operating_system)\n",
        "\n",
        "    def start_game(self,name):\n",
        "      print(f\"{name} on {self.__class__.__name__}\")\n",
        "\n",
        "\n",
        "\n",
        "# 2. Make a class MobilePhone with:\n",
        "# model (public)\n",
        "\n",
        "\n",
        "# __battery (private, default 100)\n",
        "#  Add methods:\n",
        "\n",
        "\n",
        "# use() → reduce battery\n",
        "\n",
        "\n",
        "# charge() → increase battery (max 100)\n",
        "\n",
        "\n",
        "# get_battery() → show battery\n",
        "\n",
        "\n",
        "# Show that you can’t access __battery directly.\n",
        "\n",
        "\n",
        "class MobilePhone:\n",
        "  def __init__(self,model,battery=100):\n",
        "    self.model = model\n",
        "    self.__battery = battery\n",
        "\n",
        "  def get_battery(self):\n",
        "    return self.__battery\n",
        "\n",
        "  def use(self):\n",
        "    if self.__battery !=0:\n",
        "      self.__battery -= 2\n",
        "\n",
        "  def charge(self):\n",
        "    if self.__battery !=100:\n",
        "      self.__battery +=2\n",
        "\n",
        "\n",
        "newPhone = MobilePhone(\"22ct\")\n",
        "# print(newPhone.__battery) You can't access from outside\n",
        "newPhone.use()\n",
        "print(newPhone.get_battery())\n",
        "newPhone.charge()\n",
        "newPhone.charge()\n",
        "print(newPhone.get_battery())\n",
        "\n",
        "\n"
      ],
      "metadata": {
        "colab": {
          "base_uri": "https://localhost:8080/"
        },
        "id": "3dkX5lL7Xwrx",
        "outputId": "b7d198c6-a456-49ff-920e-c6b071a6a2f0"
      },
      "execution_count": 40,
      "outputs": [
        {
          "output_type": "stream",
          "name": "stdout",
          "text": [
            "98\n",
            "100\n"
          ]
        }
      ]
    },
    {
      "cell_type": "code",
      "source": [],
      "metadata": {
        "id": "eXFCVvHsd_TO"
      },
      "execution_count": null,
      "outputs": []
    }
  ]
}
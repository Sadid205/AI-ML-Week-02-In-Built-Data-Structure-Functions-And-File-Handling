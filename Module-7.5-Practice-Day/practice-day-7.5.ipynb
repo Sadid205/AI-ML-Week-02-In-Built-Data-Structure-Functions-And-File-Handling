{
 "cells": [
  {
   "cell_type": "markdown",
   "id": "2f64908e-de65-45cb-8dff-7e1835d35298",
   "metadata": {},
   "source": [
    "# Problem 1: Common Friends (Set Operations)\n",
    "Problem:\n",
    "Given two sets of friends from two people, find the mutual friends, unique friends of each, and the total number of unique friends.\n",
    "Example Input:\n",
    "a_friends = {\"Rahim\", \"Karim\", \"Sakib\", \"Jamal\"}\n",
    "b_friends = {\"Sakib\", \"Jamal\", \"Rafiq\", \"Nadim\"}\n",
    "\n",
    "Expected Output:\n",
    "Mutual friends: {'Sakib', 'Jamal'}\n",
    "Unique to A: {'Rahim', 'Karim'}\n",
    "Unique to B: {'Rafiq', 'Nadim'}\n",
    "Total unique friends: 6\n"
   ]
  },
  {
   "cell_type": "code",
   "execution_count": 17,
   "id": "bdf52114-848d-45a4-91ae-e5bf24ef1d68",
   "metadata": {},
   "outputs": [
    {
     "name": "stdin",
     "output_type": "stream",
     "text": [
      " {\"Sakib\", \"Jamal\", \"Rafiq\", \"Nadim\"}\n",
      " {\"Rahim\", \"Karim\", \"Sakib\", \"Jamal\"}\n"
     ]
    },
    {
     "name": "stdout",
     "output_type": "stream",
     "text": [
      "Mutual friends: {'Sakib', 'Jamal'}\n",
      "Unique to A: {'Nadim', 'Rafiq'}\n",
      "Unique to B: {'Karim', 'Rahim'}\n",
      "Total unique friends: 6\n",
      "\n"
     ]
    }
   ],
   "source": [
    "import ast\n",
    "a_friends = ast.literal_eval(input())\n",
    "b_friends = ast.literal_eval(input())\n",
    "# print({\"a\":a_friends,\"b\":b_friends})\n",
    "# print({\"at\":type(a_friends),\"bt\":type(b_friends)})\n",
    "# print(f\"Mutual friends: {a_friends.intersection(b_friends)}\\n\"\n",
    "#       f\"Unique to A:{[x for x in a_friends if x not in b_friends]}\\n\"\n",
    "#       f\"Unique to B:{[y for y in b_friends if y not in a_friends]}\\n\"\n",
    "#       f\"Total unique friends: {len(a_friends.union(b_friends))}\")\n",
    "\n",
    "print(\n",
    "    f\"Mutual friends: {a_friends & b_friends}\\n\"\n",
    "    f\"Unique to A: {a_friends - b_friends}\\n\"\n",
    "    f\"Unique to B: {b_friends - a_friends}\\n\"\n",
    "    f\"Total unique friends: {len(a_friends | b_friends)}\\n\"\n",
    ")\n"
   ]
  },
  {
   "cell_type": "markdown",
   "id": "b72c03e1-5a4c-4252-93fc-484b0b604d7c",
   "metadata": {},
   "source": [
    "# Problem 2: Sort Students by Marks (Tuple + Dictionary)\n",
    "Problem:\n",
    " You are given a list of tuples — each containing a student’s name and mark.\n",
    " Sort them in descending order of marks and print the top 3 scorers.\n",
    "Example Input:\n",
    "students = [(\"Rafi\", 89), (\"Sumi\", 95), (\"Hasan\", 90), (\"Nila\", 75), (\"Anik\", 98)]\n",
    "\n",
    "Expected Output:\n",
    "Top 3 students:\n",
    "Anik - 98\n",
    "Sumi - 95\n",
    "Hasan - 90\n",
    "\n"
   ]
  },
  {
   "cell_type": "code",
   "execution_count": 24,
   "id": "81f8c958-0856-4742-b6db-5dec7cc496e1",
   "metadata": {},
   "outputs": [
    {
     "name": "stdin",
     "output_type": "stream",
     "text": [
      " [(\"Rafi\", 89), (\"Sumi\", 95), (\"Hasan\", 90), (\"Nila\", 75), (\"Anik\", 98)]\n"
     ]
    },
    {
     "name": "stdout",
     "output_type": "stream",
     "text": [
      "Anik - 98\n",
      "Sumi - 95\n",
      "Hasan - 90\n",
      "\n"
     ]
    }
   ],
   "source": [
    "import ast\n",
    "students = ast.literal_eval(input())\n",
    "students.sort(key=lambda x:x[1],reverse=True)\n",
    "print(\n",
    "    f\"{students[0][0]} - {students[0][1]}\\n\"\n",
    "    f\"{students[1][0]} - {students[1][1]}\\n\"\n",
    "    f\"{students[2][0]} - {students[2][1]}\\n\"\n",
    "     )"
   ]
  },
  {
   "cell_type": "markdown",
   "id": "fd2e9909-07b6-498c-905c-559037f5a046",
   "metadata": {},
   "source": [
    "Problem 3: Word Length Filter (Lambda + Filter)\n",
    "Problem:\n",
    " Given a list of words, use filter() and lambda to return only words whose length is greater than 4.\n",
    " Example Input:\n",
    "words = [\"sun\", \"planet\", \"moon\", \"star\", \"universe\"]\n",
    "\n",
    "Expected Output:\n",
    "['planet', 'universe']\n"
   ]
  },
  {
   "cell_type": "code",
   "execution_count": 27,
   "id": "d2b43eda-2ea4-402c-8b1c-746f40cb6565",
   "metadata": {},
   "outputs": [
    {
     "name": "stdin",
     "output_type": "stream",
     "text": [
      " [\"sun\", \"planet\", \"moon\", \"star\", \"universe\"]\n"
     ]
    },
    {
     "name": "stdout",
     "output_type": "stream",
     "text": [
      "['planet', 'universe']\n"
     ]
    }
   ],
   "source": [
    "import ast \n",
    "words = ast.literal_eval(input())\n",
    "words = list(filter(lambda x:len(x) > 4,words))\n",
    "print(words)"
   ]
  },
  {
   "cell_type": "markdown",
   "id": "708e2c56-b662-49fb-9b8b-111ed12b91f7",
   "metadata": {},
   "source": [
    "Problem 4: Square of Even Numbers (Map + Filter + Lambda)\n",
    "Problem:\n",
    " Write a one-line Python expression using map(), filter(), and lambda that takes a list of integers and returns the squares of even numbers only.\n",
    "Example Input:\n",
    "nums = [1, 2, 3, 4, 5, 6]\n",
    "\n",
    "Expected Output:\n",
    "[4, 16, 36]\n",
    "\n"
   ]
  },
  {
   "cell_type": "code",
   "execution_count": 31,
   "id": "b1c9ddc2-9854-4818-a765-5110cd37d067",
   "metadata": {},
   "outputs": [
    {
     "name": "stdin",
     "output_type": "stream",
     "text": [
      " [1, 2, 3, 4, 5, 6]\n"
     ]
    },
    {
     "name": "stdout",
     "output_type": "stream",
     "text": [
      "[4, 16, 36]\n"
     ]
    }
   ],
   "source": [
    "import ast\n",
    "lst = ast.literal_eval(input())\n",
    "lst = list(filter( lambda x:x!=None ,list(map(lambda x: x**2 if x%2==0 else None,lst))))\n",
    "print(lst)"
   ]
  }
 ],
 "metadata": {
  "kernelspec": {
   "display_name": "Python [conda env:base] *",
   "language": "python",
   "name": "conda-base-py"
  },
  "language_info": {
   "codemirror_mode": {
    "name": "ipython",
    "version": 3
   },
   "file_extension": ".py",
   "mimetype": "text/x-python",
   "name": "python",
   "nbconvert_exporter": "python",
   "pygments_lexer": "ipython3",
   "version": "3.13.5"
  }
 },
 "nbformat": 4,
 "nbformat_minor": 5
}

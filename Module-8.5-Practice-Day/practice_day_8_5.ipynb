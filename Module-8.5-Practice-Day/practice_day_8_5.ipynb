{
  "nbformat": 4,
  "nbformat_minor": 0,
  "metadata": {
    "colab": {
      "provenance": []
    },
    "kernelspec": {
      "name": "python3",
      "display_name": "Python 3"
    },
    "language_info": {
      "name": "python"
    }
  },
  "cells": [
    {
      "cell_type": "code",
      "execution_count": null,
      "metadata": {
        "id": "nmO_GtLpyVkD"
      },
      "outputs": [],
      "source": [
        "# # Smart Vechile Classifier\n",
        "# Project Name:\n",
        "# Smart Vehicle Classifier\n",
        "\n",
        "# Description\n",
        "# This project simulates a simple AI-based vehicle classifier using Object-Oriented Programming (OOP).\n",
        "# It demonstrates inheritance, protected and private members, method overriding, and encapsulation.\n",
        "# The program manages two types of vehicles: Car and Bike. Each class inherits from a base class Vehicle.\n",
        "# A simple classifier method predicts the type of vehicle based on its speed threshold.\n",
        "\n",
        "# Task Statement\n",
        "# Design and implement a simple program that classifies vehicles based on their type and speed using Object-Oriented Programming (OOP) principles.\n",
        "\n",
        "# You must:\n",
        "# Create a base class Vehicle that stores vehicle type, name, and speed.\n",
        "\n",
        "\n",
        "# Use protected and private attributes in the base class to demonstrate encapsulation.\n",
        "\n",
        "\n",
        "# Implement a method classify() that categorizes vehicles as High-speed Vehicle if the speed is greater than 100, otherwise Normal Vehicle.\n",
        "\n",
        "\n",
        "# Derive two subclasses — Car and Bike — from Vehicle. Each should override the show_info() method to display detailed information.\n",
        "\n",
        "\n",
        "# Read multiple inputs representing different vehicles, create corresponding objects, and print their details along with their classification results.\n",
        "\n",
        "# Input\n",
        "# 3\n",
        "# Car Toyota 150\n",
        "# Bike Yamaha 90\n",
        "# Car Honda 120\n",
        "\n",
        "# Output\n",
        "# Car Added: Toyota\n",
        "# Bike Added: Yamaha\n",
        "# Car Added: Honda\n",
        "\n",
        "# --- Vehicle Details ---\n",
        "# Type: Car, Name: Toyota, Speed: 150 km/h, Predicted: High-speed Vehicle\n",
        "# Type: Bike, Name: Yamaha, Speed: 90 km/h, Predicted: Normal Vehicle\n",
        "# Type: Car, Name: Honda, Speed: 120 km/h, Predicted: High-speed Vehicle\n",
        "\n",
        "# Short Hint\n",
        "# Use a base class Vehicle with protected and private attributes.\n",
        "# Create subclasses Car and Bike that override show_info() and add a simple speed-based classifier.\n",
        "# Speed above 100 is considered a \"High-speed Vehicle\".\n",
        "\n"
      ]
    },
    {
      "cell_type": "code",
      "source": [
        "class Vehicle:\n",
        "  def __init__(self,vehicle_type,name,speed):\n",
        "    self.vehicle_type =  vehicle_type\n",
        "    self.name = name\n",
        "    self.speed = speed\n",
        "    self._predected = None\n",
        "\n",
        "  def _classify(self):\n",
        "    self._predected = \"High-speed Vehicle\" if self.speed > 100 else \"Normal Vehicle\"\n",
        "\n",
        "class Car(Vehicle):\n",
        "  def __init__(self,name,speed):\n",
        "    super().__init__(\"Car\",name,speed)\n",
        "    self._classify()\n",
        "\n",
        "  def show_info(self):\n",
        "    return f\"Type: {self.vehicle_type}, Name: {self.name}, Speed: {self.speed} km/h, Predected: {self._predected}\"\n",
        "\n",
        "\n",
        "\n",
        "class Bike(Vehicle):\n",
        "  def __init__(self,name,speed):\n",
        "    super().__init__(\"Bike\",name,speed)\n",
        "    self._classify()\n",
        "\n",
        "  def show_info(self):\n",
        "    return f\"Type: {self.vehicle_type}, Name: {self.name}, Speed: {self.speed} km/h, Predected: {self._predected}\"\n",
        "\n",
        "try:\n",
        "    import sys\n",
        "    n = int(input())\n",
        "    vehicles = []\n",
        "    for _ in range(n):\n",
        "      line = input().strip()\n",
        "      vehicle,name,speed = line.split()\n",
        "      speed = int(speed)\n",
        "      vehicles.append((vehicle,name,speed))\n",
        "      print(f\"{vehicle} Added : {name}\")\n",
        "\n",
        "    print(\"--- Vehicle Details ---\")\n",
        "    print(vehicles)\n",
        "    for vehicle,name,speed in vehicles:\n",
        "      if vehicle == \"Car\":\n",
        "        car = Car(name,speed)\n",
        "        print(car.show_info())\n",
        "      else:\n",
        "        bike = Bike(name,speed)\n",
        "        print(bike.show_info())\n",
        "except Exception as e:\n",
        "    print(f\"Error\",e)\n",
        "\n",
        "\n",
        "\n",
        "\n",
        "\n",
        ""
      ],
      "metadata": {
        "colab": {
          "base_uri": "https://localhost:8080/"
        },
        "id": "xf_sgp3qyoSd",
        "outputId": "6b6abca2-a373-404d-a6a0-0b9deebe75ad"
      },
      "execution_count": 18,
      "outputs": [
        {
          "output_type": "stream",
          "name": "stdout",
          "text": [
            "2\n",
            "\n",
            "Error not enough values to unpack (expected 3, got 0)\n"
          ]
        }
      ]
    },
    {
      "cell_type": "code",
      "source": [],
      "metadata": {
        "id": "_9_d-LhLz7vm"
      },
      "execution_count": 10,
      "outputs": []
    }
  ]
}
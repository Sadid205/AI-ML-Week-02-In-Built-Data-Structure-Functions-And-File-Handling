{
  "nbformat": 4,
  "nbformat_minor": 0,
  "metadata": {
    "colab": {
      "provenance": []
    },
    "kernelspec": {
      "name": "python3",
      "display_name": "Python 3"
    },
    "language_info": {
      "name": "python"
    }
  },
  "cells": [
    {
      "cell_type": "code",
      "execution_count": 2,
      "metadata": {
        "colab": {
          "base_uri": "https://localhost:8080/"
        },
        "id": "y0vpEyFQkl5w",
        "outputId": "521e3744-22c5-41b3-bc9d-f277b9d28828"
      },
      "outputs": [
        {
          "output_type": "stream",
          "name": "stdout",
          "text": [
            "Learning Python is fun!\n"
          ]
        }
      ],
      "source": [
        "# Problem 5: Write and Read a File\n",
        "# Problem:\n",
        "#  Write a Python program to:\n",
        "# Create a text file named data.txt\n",
        "\n",
        "\n",
        "# Write “Learning Python is fun!” into it.\n",
        "\n",
        "\n",
        "# Read the file and print its content.\n",
        "\n",
        "with open(\"./sample_data/data.txt\",\"r\") as file:\n",
        "  print(file.read())"
      ]
    },
    {
      "cell_type": "code",
      "source": [
        "# Problem 6: Count Lines in a File\n",
        "# Problem:\n",
        "# Write a Python program to count how many lines are in a text file named story.txt.\n",
        "# If the file does not exist, handle the exception and print an error message, otherwise read the text file ( test it with both conditions ). Print a message finally.\n",
        "\n",
        "try:\n",
        "  with open(\"./sample_data/store.txt\",\"r\") as file:\n",
        "    lines = file.readlines()\n",
        "except Exception as e:\n",
        "  print(e)\n",
        "else:\n",
        "  print(len(lines))\n",
        "finally:\n",
        "  print(\"End!\")\n"
      ],
      "metadata": {
        "colab": {
          "base_uri": "https://localhost:8080/"
        },
        "id": "I_CLZrnllfgl",
        "outputId": "51b7f33a-2314-4a57-e5e4-35d1b02bf329"
      },
      "execution_count": 7,
      "outputs": [
        {
          "output_type": "stream",
          "name": "stdout",
          "text": [
            "4\n",
            "End!\n"
          ]
        }
      ]
    }
  ]
}
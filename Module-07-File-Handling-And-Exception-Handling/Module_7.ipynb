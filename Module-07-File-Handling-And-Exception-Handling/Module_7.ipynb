{
  "cells": [
    {
      "cell_type": "code",
      "source": [
        "file = open(\"./sample_data/sample.txt\",\"r\")\n",
        "\n",
        "content = file.read()\n",
        "print(content)\n",
        "print(type(content))\n",
        "print(file.closed)\n",
        "file.close()\n",
        "print(file.closed)"
      ],
      "metadata": {
        "colab": {
          "base_uri": "https://localhost:8080/"
        },
        "id": "8tzGDWCeWbmF",
        "outputId": "68095a21-43cd-456e-baeb-eedd43621776"
      },
      "execution_count": null,
      "outputs": [
        {
          "output_type": "stream",
          "name": "stdout",
          "text": [
            "Second  attempt \n",
            "How is learning going fast ? \n",
            "The learning of AI/ML is fun \n",
            "I am enjoying the classes \n",
            "<class 'str'>\n",
            "False\n",
            "True\n"
          ]
        }
      ]
    },
    {
      "cell_type": "code",
      "source": [],
      "metadata": {
        "id": "sfgu2Sfybg0h"
      },
      "execution_count": null,
      "outputs": []
    },
    {
      "cell_type": "code",
      "source": [
        "file = open(\"./sample_data/sample.txt\",\"r\")\n",
        "\n",
        "content = file.readlines()\n",
        "content = list(map(str.strip,content))\n",
        "filter_content = list(filter(lambda x: len(x) >=1,content))\n",
        "print(filter_content)\n",
        "print(type(content))\n",
        "\n"
      ],
      "metadata": {
        "colab": {
          "base_uri": "https://localhost:8080/"
        },
        "id": "MShuwDfsWlm2",
        "outputId": "c6a5d634-f6a7-4ac3-c61d-cc952b1497af"
      },
      "execution_count": null,
      "outputs": [
        {
          "output_type": "stream",
          "name": "stdout",
          "text": [
            "['Hello world', 'Welcome to the AI/ML with phitron']\n",
            "<class 'list'>\n"
          ]
        }
      ]
    },
    {
      "cell_type": "code",
      "source": [
        "with open(\"./sample_data/sample.txt\",\"r\") as file:\n",
        "  content = file.readlines()\n",
        "  print(content)\n",
        "print(file.closed)\n"
      ],
      "metadata": {
        "colab": {
          "base_uri": "https://localhost:8080/"
        },
        "id": "xOW3HUfHX7d3",
        "outputId": "5a100e08-f440-4231-a244-79907621bec0"
      },
      "execution_count": null,
      "outputs": [
        {
          "output_type": "stream",
          "name": "stdout",
          "text": [
            "[]\n",
            "True\n"
          ]
        }
      ]
    },
    {
      "cell_type": "markdown",
      "source": [],
      "metadata": {
        "id": "tg4nB0xUYb2t"
      }
    },
    {
      "cell_type": "code",
      "source": [
        "with open(\"./sample_data/sample.txt\",\"r\") as file:\n",
        " for  line in file:\n",
        "  # print(line,end=\"\")\n",
        "  l = line.strip()\n",
        "  print(l)\n",
        "# print(file.closed)\n"
      ],
      "metadata": {
        "id": "0rtEfC6cYcUc",
        "outputId": "78149019-e28a-4a0a-bfdd-37ed8bc545e0",
        "colab": {
          "base_uri": "https://localhost:8080/"
        }
      },
      "execution_count": null,
      "outputs": [
        {
          "output_type": "stream",
          "name": "stdout",
          "text": [
            "Hello world\n",
            "Welcome to the AI/ML with with phitron\n"
          ]
        }
      ]
    },
    {
      "cell_type": "code",
      "source": [
        "# creating a new file and writing there\n",
        "with open(\"./sample_data/test.txt\",\"w\") as file:\n",
        "  file.write(\"Hello test file \\n\")\n",
        "  file.write(\"How is learning going on ? \")"
      ],
      "metadata": {
        "id": "LEG0GVKRbjmd"
      },
      "execution_count": null,
      "outputs": []
    },
    {
      "cell_type": "code",
      "source": [
        "# writing on an existing file.\n",
        "# it overwrites the file\n",
        "with open(\"./sample_data/test.txt\",\"w\") as file:\n",
        "  file.write(\"Second  attempt \\n\")\n",
        "  file.write(\"How is learning going fast ? \\n\")"
      ],
      "metadata": {
        "id": "jj_xDPCwcHcj"
      },
      "execution_count": null,
      "outputs": []
    },
    {
      "cell_type": "code",
      "source": [
        "# No overwriting just append the text later\n",
        "with open(\"./sample_data/test.txt\",\"a\") as file:\n",
        "  file.write(\"The learning of AI/ML is fun \\n\")\n",
        "  file.write(\"I am enjoying the classes\\n\")"
      ],
      "metadata": {
        "id": "1bQQgqAKcWjL"
      },
      "execution_count": null,
      "outputs": []
    },
    {
      "cell_type": "code",
      "source": [
        "strings = [\"hello\",\"hi\",\"good bye\",\"what up\"]\n",
        "with open(\"./sample_data/test2.txt\",\"a\") as file:\n",
        "  file.writelines(strings)"
      ],
      "metadata": {
        "id": "il35u7POevPV"
      },
      "execution_count": null,
      "outputs": []
    },
    {
      "cell_type": "code",
      "source": [
        "with open(\"./sample_data/sample.txt\",\"r\") as file:\n",
        "  print(file.tell()) ## current cursor\n",
        "  print(file.read())\n",
        "  print(file.tell()) ## current cursor\n",
        "  print(file.read()) # last index theke pora shuru koreci\n"
      ],
      "metadata": {
        "colab": {
          "base_uri": "https://localhost:8080/"
        },
        "id": "bEvfN8OLgUY2",
        "outputId": "6d5ff937-7d19-410e-e4be-453667fe80fb"
      },
      "execution_count": null,
      "outputs": [
        {
          "output_type": "stream",
          "name": "stdout",
          "text": [
            "0\n",
            "Hello world\n",
            "11\n",
            "\n"
          ]
        }
      ]
    },
    {
      "cell_type": "code",
      "source": [
        "with open(\"./sample_data/sample.txt\",\"r\") as file:\n",
        "  print(file.tell()) ## current cursor\n",
        "  print(file.read(5))\n",
        "  print(file.tell())\n",
        "  print(file.read())\n",
        "  print(file.tell())\n"
      ],
      "metadata": {
        "colab": {
          "base_uri": "https://localhost:8080/"
        },
        "id": "2JjUyFqlg6os",
        "outputId": "b98e5947-13f7-4b8c-be15-59a413f3299b"
      },
      "execution_count": null,
      "outputs": [
        {
          "output_type": "stream",
          "name": "stdout",
          "text": [
            "0\n",
            "Hello\n",
            "5\n",
            " world\n",
            "11\n"
          ]
        }
      ]
    },
    {
      "cell_type": "code",
      "source": [
        "with open(\"./sample_data/sample.txt\",\"r\") as file:\n",
        "  print(file.tell())\n",
        "  file.seek(5)\n",
        "  print(file.tell())\n",
        "  file.seek(0)\n",
        "  print(file.tell())\n",
        "  print(file.read(5))\n",
        "\n",
        "  # file.truncate()"
      ],
      "metadata": {
        "colab": {
          "base_uri": "https://localhost:8080/"
        },
        "id": "2madAKDxiFUy",
        "outputId": "88258fdc-9c34-4b17-fa7c-87f561008331"
      },
      "execution_count": null,
      "outputs": [
        {
          "output_type": "stream",
          "name": "stdout",
          "text": [
            "0\n",
            "5\n",
            "0\n",
            "Hello\n"
          ]
        }
      ]
    },
    {
      "cell_type": "code",
      "source": [
        "# Get the text from sample.txt , and count the following\n",
        "\n",
        "# Number of lines\n",
        "\n",
        "# Number of words\n",
        "\n",
        "# Number of characters\n",
        "\n",
        "# and save it to the counter_of_string.txt file\n",
        "\n",
        "with open(\"./sample_data/sample.txt\",\"r\") as file:\n",
        "  strings = file.readlines()\n",
        "  total_lines = len(strings)\n",
        "  print(total_lines)\n",
        "  # print(strings)\n",
        "\n",
        "  #total words\n",
        "  from functools import reduce\n",
        "  number_of_words = list(map(lambda x:len(x.split()),strings))\n",
        "  total_number_of_words = reduce(lambda x,y:x+y,number_of_words)\n",
        "  print(total_number_of_words)\n",
        "\n",
        "  # cleaning process\n",
        "  # 1. new line delete\n",
        "  string_list = list(map(str.strip,strings))\n",
        "  # 2. space delete\n",
        "  string_list = list(map(lambda x:x.replace(\" \",\"\"),string_list))\n",
        "  # 3. count word\n",
        "  number_of_words = list(map(lambda  x:len(x),string_list))\n",
        "\n",
        "  # total number of charedcters\n",
        "  total_number_of_charecters = reduce(lambda x,y:x+y,number_of_chars)\n",
        "\n",
        "  print(strings)\n",
        "  print(string_list)\n",
        "  print(number_of_words)\n",
        "  print(total_number_of_charecters)\n",
        "\n",
        "\n",
        "  with open(\"./sample_data/counter_of_string.txt\",\"w\") as file:\n",
        "    file.write(f\"total line: {total_lines}\\ntotal number of words:{total_number_of_words}\\ntotal number of charecters:{total_number_of_charecters}\")\n"
      ],
      "metadata": {
        "colab": {
          "base_uri": "https://localhost:8080/"
        },
        "id": "Er2nr58u2C6N",
        "outputId": "6529327f-30d0-4bf2-813b-a54c5d873cfc"
      },
      "execution_count": null,
      "outputs": [
        {
          "output_type": "stream",
          "name": "stdout",
          "text": [
            "4\n",
            "16\n",
            "['Number of lines\\n', 'Number of words\\n', 'Number of characters\\n', 'and save it to the counter_of_string.txt file']\n",
            "['Numberoflines', 'Numberofwords', 'Numberofcharacters', 'andsaveittothecounter_of_string.txtfile']\n",
            "[13, 13, 18, 39]\n",
            "83\n"
          ]
        }
      ]
    },
    {
      "cell_type": "code",
      "source": [
        "# Practice 2\n",
        "# Write then read with one open\n",
        "with open(\"./sample_data/write_read.txt\",\"w+\") as file:\n",
        "  file.write(\"Hello world\")\n",
        "  print(file.tell())\n",
        "  file.seek(0)\n",
        "  print(file.tell())\n",
        "  print(file.read())\n",
        "\n",
        "  file.truncate(5)\n",
        "  file.seek(0)\n",
        "  print(file.read())"
      ],
      "metadata": {
        "colab": {
          "base_uri": "https://localhost:8080/"
        },
        "id": "RsLiMnIu9xNq",
        "outputId": "4277df5a-f2c8-474e-d896-4690bfb1a6ff"
      },
      "execution_count": null,
      "outputs": [
        {
          "output_type": "stream",
          "name": "stdout",
          "text": [
            "11\n",
            "0\n",
            "Hello world\n",
            "Hello\n"
          ]
        }
      ]
    },
    {
      "cell_type": "code",
      "source": [
        "## Exception in python\n",
        "n = int(input())\n",
        "try:\n",
        "  a = 10/n\n",
        "except ZeroDivisionError:\n",
        "  print(\"you can't divide a number by 0\")\n",
        "\n",
        "print(\"hello world\")"
      ],
      "metadata": {
        "colab": {
          "base_uri": "https://localhost:8080/"
        },
        "id": "cqdGPidNB8eN",
        "outputId": "9ef25b72-70be-4c0a-b050-dff4f38d2d26"
      },
      "execution_count": null,
      "outputs": [
        {
          "output_type": "stream",
          "name": "stdout",
          "text": [
            "0\n",
            "you can't divide a number by 0\n",
            "hello world\n"
          ]
        }
      ]
    },
    {
      "cell_type": "code",
      "source": [
        "try:\n",
        "  x = y\n",
        "except ZeroDivisionError:\n",
        "  print(\"you can't divide a number by 0\")\n",
        "except Exception as e:\n",
        "  print(e)\n",
        "print(\"hello world\")\n"
      ],
      "metadata": {
        "colab": {
          "base_uri": "https://localhost:8080/"
        },
        "id": "q2o3gel7Cy-F",
        "outputId": "ec846ba7-14ed-4091-aea0-6b0c03e6defd"
      },
      "execution_count": null,
      "outputs": [
        {
          "output_type": "stream",
          "name": "stdout",
          "text": [
            "name 'y' is not defined\n",
            "hello world\n"
          ]
        }
      ]
    },
    {
      "cell_type": "code",
      "source": [
        "# model train\n",
        "try:\n",
        "    file =  open(\"./sample_data/data1.txt\",\"r\")\n",
        "  # file.read()\n",
        "except Exception as e:\n",
        "  print(e)\n",
        "else:\n",
        "  # model train\n",
        "  print(file.read())\n",
        "finally:\n",
        "  print(\"GPU is stopped\")"
      ],
      "metadata": {
        "colab": {
          "base_uri": "https://localhost:8080/"
        },
        "id": "7zZmJipSEH9q",
        "outputId": "2ecbd56a-68fa-431d-f89b-8521c9d2c6de"
      },
      "execution_count": null,
      "outputs": [
        {
          "output_type": "stream",
          "name": "stdout",
          "text": [
            "Hello world\n",
            "GPU is stopped\n"
          ]
        }
      ]
    },
    {
      "cell_type": "code",
      "source": [
        "# Create a text file named emails.txt containing multiple email addresses, some in uppercase and some repeated.\n",
        "# Write a Python program to clean the data by converting all emails to lowercase, removing duplicates, sorting them alphabetically, and saving the cleaned list to a new file named unique_emails.txt.\n",
        "\n",
        "\n",
        "try:\n",
        "    with open(\"./sample_data/emails.txt\",\"r\") as file:\n",
        "      lines = file.readlines()\n",
        "except Exception as e:\n",
        "    print(e)\n",
        "else:\n",
        "    stripted = list(map(str.strip,lines))\n",
        "    empty_string_skipped = list(filter(lambda x:x !='',stripted))\n",
        "    lowercase_and_sorted =list(set(sorted(list(map(str.lower,empty_string_skipped))))\n",
        "    )\n",
        "    # print(stripted)\n",
        "    # print(empty_string_skipped)\n",
        "    print(lowercase_and_sorted)\n",
        "    with open(\"./sample_data/unique_emails.txt\",\"w\") as file:\n",
        "      for email in lowercase_and_sorted:\n",
        "        file.write(f\"{email}\\n\")"
      ],
      "metadata": {
        "colab": {
          "base_uri": "https://localhost:8080/"
        },
        "id": "1VBqeu7dQ6Ry",
        "outputId": "7df09cae-5688-4f8e-e28e-cf059df38faf"
      },
      "execution_count": null,
      "outputs": [
        {
          "output_type": "stream",
          "name": "stdout",
          "text": [
            "['onboarding+trial@example.com', 'frontend.lead@example.com', 'dev.team01@example.com', 'bob_dev@example.org', 'sample.user123@example.com', 'qa.tester@example.org', 'alice.sadid@example.com', 'carla.user@example.net', 'no-reply@example.com', 'backend_pm@example.net']\n"
          ]
        }
      ]
    },
    {
      "cell_type": "code",
      "source": [
        "# Create a text file named names.txt containing a list of names.\n",
        "# Some names may have extra spaces, inconsistent capitalization (like “aLiCe” or “ bob ”), or appear more than once.\n",
        "# Write a Python program to clean the data by:\n",
        "\n",
        "try:\n",
        "  with open(\"./sample_data/names.txt\",\"r\") as file:\n",
        "    lines = file.readlines()\n",
        "except Exception as e:\n",
        "  print(e)\n",
        "else:\n",
        "  stripted = list(map(str.strip,lines))\n",
        "  ans = sorted(list(set(list(map(str.capitalize,stripted)))))\n",
        "  print(ans)\n",
        "  with open(\"./sample_data/clean_names.txt\",\"w\") as file:\n",
        "    for name in ans:\n",
        "      file.write(f\"{name}\\n\")\n"
      ],
      "metadata": {
        "id": "F5EWHQk9RM4U",
        "colab": {
          "base_uri": "https://localhost:8080/"
        },
        "outputId": "def31f33-483c-42ea-ec3b-3468619a980f"
      },
      "execution_count": 35,
      "outputs": [
        {
          "output_type": "stream",
          "name": "stdout",
          "text": [
            "['Alice', 'Bob', 'Charlie', 'David', 'Eve', 'Frank', 'George', 'Hannah', 'Isaac', 'Julia']\n"
          ]
        }
      ]
    },
    {
      "cell_type": "code",
      "source": [
        "# Write a Python program that creates a list of 5 numbers.\n",
        "# Ask the user for an index number and print the value at that index.\n",
        "# If the index is out of range, handle the exception and print \"Invalid index!\".\n",
        "\n",
        "try:\n",
        "  lst = [23,566,45,343,34]\n",
        "  inp = int(input())\n",
        "  print(f\"{lst[inp]}\")\n",
        "except IndexError:\n",
        "  print(\"Invalid index!\")"
      ],
      "metadata": {
        "colab": {
          "base_uri": "https://localhost:8080/"
        },
        "id": "cWvsl_ASbZvt",
        "outputId": "5f29755d-b845-47e5-d173-8bd999559af0"
      },
      "execution_count": 42,
      "outputs": [
        {
          "output_type": "stream",
          "name": "stdout",
          "text": [
            "7\n",
            "Invalid index!\n"
          ]
        }
      ]
    },
    {
      "cell_type": "code",
      "source": [],
      "metadata": {
        "id": "FyxMtPC-cIZ2"
      },
      "execution_count": null,
      "outputs": []
    }
  ],
  "metadata": {
    "colab": {
      "provenance": []
    },
    "kernelspec": {
      "display_name": "Python 3",
      "name": "python3"
    }
  },
  "nbformat": 4,
  "nbformat_minor": 0
}